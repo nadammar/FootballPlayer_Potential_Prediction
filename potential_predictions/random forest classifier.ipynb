{
 "cells": [
  {
   "cell_type": "code",
   "execution_count": 1,
   "metadata": {},
   "outputs": [
    {
     "data": {
      "text/html": [
       "<div>\n",
       "<style scoped>\n",
       "    .dataframe tbody tr th:only-of-type {\n",
       "        vertical-align: middle;\n",
       "    }\n",
       "\n",
       "    .dataframe tbody tr th {\n",
       "        vertical-align: top;\n",
       "    }\n",
       "\n",
       "    .dataframe thead th {\n",
       "        text-align: right;\n",
       "    }\n",
       "</style>\n",
       "<table border=\"1\" class=\"dataframe\">\n",
       "  <thead>\n",
       "    <tr style=\"text-align: right;\">\n",
       "      <th></th>\n",
       "      <th>pd</th>\n",
       "      <th>pm</th>\n",
       "      <th>pa</th>\n",
       "      <th>resultat</th>\n",
       "    </tr>\n",
       "  </thead>\n",
       "  <tbody>\n",
       "    <tr>\n",
       "      <th>0</th>\n",
       "      <td>6.8390</td>\n",
       "      <td>6.9600</td>\n",
       "      <td>6.85000</td>\n",
       "      <td>1</td>\n",
       "    </tr>\n",
       "    <tr>\n",
       "      <th>1</th>\n",
       "      <td>6.3200</td>\n",
       "      <td>6.4250</td>\n",
       "      <td>5.50000</td>\n",
       "      <td>0</td>\n",
       "    </tr>\n",
       "    <tr>\n",
       "      <th>2</th>\n",
       "      <td>6.6850</td>\n",
       "      <td>6.4662</td>\n",
       "      <td>5.49900</td>\n",
       "      <td>0</td>\n",
       "    </tr>\n",
       "    <tr>\n",
       "      <th>3</th>\n",
       "      <td>6.8660</td>\n",
       "      <td>6.5000</td>\n",
       "      <td>6.96300</td>\n",
       "      <td>1</td>\n",
       "    </tr>\n",
       "    <tr>\n",
       "      <th>4</th>\n",
       "      <td>6.7650</td>\n",
       "      <td>6.5852</td>\n",
       "      <td>5.12300</td>\n",
       "      <td>0</td>\n",
       "    </tr>\n",
       "    <tr>\n",
       "      <th>...</th>\n",
       "      <td>...</td>\n",
       "      <td>...</td>\n",
       "      <td>...</td>\n",
       "      <td>...</td>\n",
       "    </tr>\n",
       "    <tr>\n",
       "      <th>139</th>\n",
       "      <td>6.4770</td>\n",
       "      <td>6.6230</td>\n",
       "      <td>8.22680</td>\n",
       "      <td>1</td>\n",
       "    </tr>\n",
       "    <tr>\n",
       "      <th>140</th>\n",
       "      <td>6.8560</td>\n",
       "      <td>6.7552</td>\n",
       "      <td>8.78569</td>\n",
       "      <td>1</td>\n",
       "    </tr>\n",
       "    <tr>\n",
       "      <th>141</th>\n",
       "      <td>6.4580</td>\n",
       "      <td>6.5211</td>\n",
       "      <td>6.22700</td>\n",
       "      <td>0</td>\n",
       "    </tr>\n",
       "    <tr>\n",
       "      <th>142</th>\n",
       "      <td>6.5629</td>\n",
       "      <td>6.6260</td>\n",
       "      <td>6.32000</td>\n",
       "      <td>0</td>\n",
       "    </tr>\n",
       "    <tr>\n",
       "      <th>143</th>\n",
       "      <td>6.1013</td>\n",
       "      <td>6.9870</td>\n",
       "      <td>6.22720</td>\n",
       "      <td>0</td>\n",
       "    </tr>\n",
       "  </tbody>\n",
       "</table>\n",
       "<p>144 rows × 4 columns</p>\n",
       "</div>"
      ],
      "text/plain": [
       "         pd      pm       pa  resultat\n",
       "0    6.8390  6.9600  6.85000         1\n",
       "1    6.3200  6.4250  5.50000         0\n",
       "2    6.6850  6.4662  5.49900         0\n",
       "3    6.8660  6.5000  6.96300         1\n",
       "4    6.7650  6.5852  5.12300         0\n",
       "..      ...     ...      ...       ...\n",
       "139  6.4770  6.6230  8.22680         1\n",
       "140  6.8560  6.7552  8.78569         1\n",
       "141  6.4580  6.5211  6.22700         0\n",
       "142  6.5629  6.6260  6.32000         0\n",
       "143  6.1013  6.9870  6.22720         0\n",
       "\n",
       "[144 rows x 4 columns]"
      ]
     },
     "execution_count": 1,
     "metadata": {},
     "output_type": "execute_result"
    }
   ],
   "source": [
    "import pandas as pd\n",
    "features=pd.read_csv('data.csv',sep=\";\")\n",
    "features"
   ]
  },
  {
   "cell_type": "code",
   "execution_count": 2,
   "metadata": {},
   "outputs": [
    {
     "data": {
      "text/plain": [
       "(144, 4)"
      ]
     },
     "execution_count": 2,
     "metadata": {},
     "output_type": "execute_result"
    }
   ],
   "source": [
    "features.shape\n"
   ]
  },
  {
   "cell_type": "code",
   "execution_count": 3,
   "metadata": {},
   "outputs": [
    {
     "data": {
      "text/html": [
       "<div>\n",
       "<style scoped>\n",
       "    .dataframe tbody tr th:only-of-type {\n",
       "        vertical-align: middle;\n",
       "    }\n",
       "\n",
       "    .dataframe tbody tr th {\n",
       "        vertical-align: top;\n",
       "    }\n",
       "\n",
       "    .dataframe thead th {\n",
       "        text-align: right;\n",
       "    }\n",
       "</style>\n",
       "<table border=\"1\" class=\"dataframe\">\n",
       "  <thead>\n",
       "    <tr style=\"text-align: right;\">\n",
       "      <th></th>\n",
       "      <th>pd</th>\n",
       "      <th>pm</th>\n",
       "      <th>pa</th>\n",
       "      <th>resultat</th>\n",
       "    </tr>\n",
       "  </thead>\n",
       "  <tbody>\n",
       "    <tr>\n",
       "      <th>count</th>\n",
       "      <td>144.00000</td>\n",
       "      <td>144.000000</td>\n",
       "      <td>144.000000</td>\n",
       "      <td>144.000000</td>\n",
       "    </tr>\n",
       "    <tr>\n",
       "      <th>mean</th>\n",
       "      <td>6.61868</td>\n",
       "      <td>6.610351</td>\n",
       "      <td>6.711068</td>\n",
       "      <td>0.506944</td>\n",
       "    </tr>\n",
       "    <tr>\n",
       "      <th>std</th>\n",
       "      <td>0.58661</td>\n",
       "      <td>0.331625</td>\n",
       "      <td>0.707967</td>\n",
       "      <td>0.501697</td>\n",
       "    </tr>\n",
       "    <tr>\n",
       "      <th>min</th>\n",
       "      <td>5.99920</td>\n",
       "      <td>5.497000</td>\n",
       "      <td>5.123000</td>\n",
       "      <td>0.000000</td>\n",
       "    </tr>\n",
       "    <tr>\n",
       "      <th>25%</th>\n",
       "      <td>6.12225</td>\n",
       "      <td>6.519000</td>\n",
       "      <td>6.224150</td>\n",
       "      <td>0.000000</td>\n",
       "    </tr>\n",
       "    <tr>\n",
       "      <th>50%</th>\n",
       "      <td>6.52215</td>\n",
       "      <td>6.565500</td>\n",
       "      <td>6.753200</td>\n",
       "      <td>1.000000</td>\n",
       "    </tr>\n",
       "    <tr>\n",
       "      <th>75%</th>\n",
       "      <td>6.78640</td>\n",
       "      <td>6.608250</td>\n",
       "      <td>6.963000</td>\n",
       "      <td>1.000000</td>\n",
       "    </tr>\n",
       "    <tr>\n",
       "      <th>max</th>\n",
       "      <td>8.78020</td>\n",
       "      <td>8.550000</td>\n",
       "      <td>8.965000</td>\n",
       "      <td>1.000000</td>\n",
       "    </tr>\n",
       "  </tbody>\n",
       "</table>\n",
       "</div>"
      ],
      "text/plain": [
       "              pd          pm          pa    resultat\n",
       "count  144.00000  144.000000  144.000000  144.000000\n",
       "mean     6.61868    6.610351    6.711068    0.506944\n",
       "std      0.58661    0.331625    0.707967    0.501697\n",
       "min      5.99920    5.497000    5.123000    0.000000\n",
       "25%      6.12225    6.519000    6.224150    0.000000\n",
       "50%      6.52215    6.565500    6.753200    1.000000\n",
       "75%      6.78640    6.608250    6.963000    1.000000\n",
       "max      8.78020    8.550000    8.965000    1.000000"
      ]
     },
     "execution_count": 3,
     "metadata": {},
     "output_type": "execute_result"
    }
   ],
   "source": [
    "features.describe()"
   ]
  },
  {
   "cell_type": "code",
   "execution_count": 4,
   "metadata": {},
   "outputs": [
    {
     "data": {
      "text/plain": [
       "<bound method DataFrame.info of          pd      pm       pa  resultat\n",
       "0    6.8390  6.9600  6.85000         1\n",
       "1    6.3200  6.4250  5.50000         0\n",
       "2    6.6850  6.4662  5.49900         0\n",
       "3    6.8660  6.5000  6.96300         1\n",
       "4    6.7650  6.5852  5.12300         0\n",
       "..      ...     ...      ...       ...\n",
       "139  6.4770  6.6230  8.22680         1\n",
       "140  6.8560  6.7552  8.78569         1\n",
       "141  6.4580  6.5211  6.22700         0\n",
       "142  6.5629  6.6260  6.32000         0\n",
       "143  6.1013  6.9870  6.22720         0\n",
       "\n",
       "[144 rows x 4 columns]>"
      ]
     },
     "execution_count": 4,
     "metadata": {},
     "output_type": "execute_result"
    }
   ],
   "source": [
    "features.info"
   ]
  },
  {
   "cell_type": "code",
   "execution_count": 5,
   "metadata": {},
   "outputs": [],
   "source": [
    "import numpy as np \n",
    "y=np.array(features[\"resultat\"])\n",
    "x=features.drop('resultat',axis=1)\n",
    "features_list=list(x.columns)\n",
    "x=np.array(x)"
   ]
  },
  {
   "cell_type": "code",
   "execution_count": 6,
   "metadata": {},
   "outputs": [
    {
     "data": {
      "image/png": "[encoded data removed]",
      "text/plain": [
       "<Figure size 432x288 with 1 Axes>"
      ]
     },
     "metadata": {
      "needs_background": "light"
     },
     "output_type": "display_data"
    }
   ],
   "source": [
    "import matplotlib.pyplot as plt\n",
    "plt.scatter(x[y == 0][:,0],x[y==0][:,1],x[y==0][:,2],color=\"b\",label=\"0\")\n",
    "plt.scatter(x[y == 1][:,0],x[y==1][:,1],x[y==1][:,2],color=\"r\",label=\"1\")\n",
    "plt.legend();"
   ]
  },
  {
   "cell_type": "code",
   "execution_count": 7,
   "metadata": {},
   "outputs": [],
   "source": [
    "from sklearn.model_selection import train_test_split\n",
    "x_train,x_test,y_train,y_test=train_test_split(x,y,test_size=0.3)"
   ]
  },
  {
   "cell_type": "code",
   "execution_count": 8,
   "metadata": {},
   "outputs": [],
   "source": [
    "from sklearn.ensemble import RandomForestClassifier\n",
    "clf=RandomForestClassifier(n_estimators=100)\n",
    "clf.fit(x_train,y_train)\n",
    "y_pred=clf.predict(x_test)"
   ]
  },
  {
   "cell_type": "code",
   "execution_count": 9,
   "metadata": {},
   "outputs": [
    {
     "name": "stdout",
     "output_type": "stream",
     "text": [
      "accuracy: 0.6818181818181818\n"
     ]
    }
   ],
   "source": [
    "from sklearn import metrics \n",
    "print(\"accuracy:\",metrics.accuracy_score(y_test,y_pred))"
   ]
  },
  {
   "cell_type": "code",
   "execution_count": null,
   "metadata": {},
   "outputs": [],
   "source": []
  },
  {
   "cell_type": "code",
   "execution_count": 11,
   "metadata": {},
   "outputs": [
    {
     "name": "stdout",
     "output_type": "stream",
     "text": [
      "[0.         0.39130435 1.        ] [0.         0.76190476 1.        ]\n"
     ]
    },
    {
     "data": {
      "image/png": "[encoded data removed]",
      "text/plain": [
       "<Figure size 432x432 with 1 Axes>"
      ]
     },
     "metadata": {
      "needs_background": "light"
     },
     "output_type": "display_data"
    }
   ],
   "source": [
    "from sklearn import metrics\n",
    "from sklearn.metrics import auc,roc_curve\n",
    "from matplotlib import pyplot as plt\n",
    "\n",
    "fpr,tpr,thr = roc_curve(y_test,y_pred)\n",
    "print(fpr,tpr)\n",
    "auc=auc(fpr,tpr)\n",
    "\n",
    "fig=plt.figure(figsize=(6,6))\n",
    "plt.plot(fpr,tpr,'-',label='auc=%.2f' % auc)\n",
    "plt.xlabel(\"False Positive Rate\",fontsize=16)\n",
    "plt.ylabel(\"True Positive Rate\",fontsize=16)\n",
    "plt.title(\"random forest classifier\",fontsize=16)\n",
    "plt.legend(loc=\"lower right\",fontsize=14)\n",
    "plt.show()"
   ]
  },
  {
   "cell_type": "code",
   "execution_count": null,
   "metadata": {},
   "outputs": [],
   "source": []
  }
 ],
 "metadata": {
  "kernelspec": {
   "display_name": "Python 3",
   "language": "python",
   "name": "python3"
  },
  "language_info": {
   "codemirror_mode": {
    "name": "ipython",
    "version": 3
   },
   "file_extension": ".py",
   "mimetype": "text/x-python",
   "name": "python",
   "nbconvert_exporter": "python",
   "pygments_lexer": "ipython3",
   "version": "3.8.5"
  }
 },
 "nbformat": 4,
 "nbformat_minor": 4
}
