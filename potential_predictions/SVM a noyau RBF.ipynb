{
 "cells": [
  {
   "cell_type": "code",
   "execution_count": 1,
   "metadata": {},
   "outputs": [
    {
     "data": {
      "text/html": [
       "<div>\n",
       "<style scoped>\n",
       "    .dataframe tbody tr th:only-of-type {\n",
       "        vertical-align: middle;\n",
       "    }\n",
       "\n",
       "    .dataframe tbody tr th {\n",
       "        vertical-align: top;\n",
       "    }\n",
       "\n",
       "    .dataframe thead th {\n",
       "        text-align: right;\n",
       "    }\n",
       "</style>\n",
       "<table border=\"1\" class=\"dataframe\">\n",
       "  <thead>\n",
       "    <tr style=\"text-align: right;\">\n",
       "      <th></th>\n",
       "      <th>pd</th>\n",
       "      <th>pm</th>\n",
       "      <th>pa</th>\n",
       "      <th>resultat</th>\n",
       "    </tr>\n",
       "  </thead>\n",
       "  <tbody>\n",
       "    <tr>\n",
       "      <th>0</th>\n",
       "      <td>6.8390</td>\n",
       "      <td>6.9600</td>\n",
       "      <td>6.85000</td>\n",
       "      <td>1</td>\n",
       "    </tr>\n",
       "    <tr>\n",
       "      <th>1</th>\n",
       "      <td>6.3200</td>\n",
       "      <td>6.4250</td>\n",
       "      <td>5.50000</td>\n",
       "      <td>0</td>\n",
       "    </tr>\n",
       "    <tr>\n",
       "      <th>2</th>\n",
       "      <td>6.6850</td>\n",
       "      <td>6.4662</td>\n",
       "      <td>5.49900</td>\n",
       "      <td>0</td>\n",
       "    </tr>\n",
       "    <tr>\n",
       "      <th>3</th>\n",
       "      <td>6.8660</td>\n",
       "      <td>6.5000</td>\n",
       "      <td>6.96300</td>\n",
       "      <td>1</td>\n",
       "    </tr>\n",
       "    <tr>\n",
       "      <th>4</th>\n",
       "      <td>6.7650</td>\n",
       "      <td>6.5852</td>\n",
       "      <td>5.12300</td>\n",
       "      <td>0</td>\n",
       "    </tr>\n",
       "    <tr>\n",
       "      <th>...</th>\n",
       "      <td>...</td>\n",
       "      <td>...</td>\n",
       "      <td>...</td>\n",
       "      <td>...</td>\n",
       "    </tr>\n",
       "    <tr>\n",
       "      <th>139</th>\n",
       "      <td>6.4770</td>\n",
       "      <td>6.6230</td>\n",
       "      <td>8.22680</td>\n",
       "      <td>1</td>\n",
       "    </tr>\n",
       "    <tr>\n",
       "      <th>140</th>\n",
       "      <td>6.8560</td>\n",
       "      <td>6.7552</td>\n",
       "      <td>8.78569</td>\n",
       "      <td>1</td>\n",
       "    </tr>\n",
       "    <tr>\n",
       "      <th>141</th>\n",
       "      <td>6.4580</td>\n",
       "      <td>6.5211</td>\n",
       "      <td>6.22700</td>\n",
       "      <td>0</td>\n",
       "    </tr>\n",
       "    <tr>\n",
       "      <th>142</th>\n",
       "      <td>6.5629</td>\n",
       "      <td>6.6260</td>\n",
       "      <td>6.32000</td>\n",
       "      <td>0</td>\n",
       "    </tr>\n",
       "    <tr>\n",
       "      <th>143</th>\n",
       "      <td>6.1013</td>\n",
       "      <td>6.9870</td>\n",
       "      <td>6.22720</td>\n",
       "      <td>0</td>\n",
       "    </tr>\n",
       "  </tbody>\n",
       "</table>\n",
       "<p>144 rows × 4 columns</p>\n",
       "</div>"
      ],
      "text/plain": [
       "         pd      pm       pa  resultat\n",
       "0    6.8390  6.9600  6.85000         1\n",
       "1    6.3200  6.4250  5.50000         0\n",
       "2    6.6850  6.4662  5.49900         0\n",
       "3    6.8660  6.5000  6.96300         1\n",
       "4    6.7650  6.5852  5.12300         0\n",
       "..      ...     ...      ...       ...\n",
       "139  6.4770  6.6230  8.22680         1\n",
       "140  6.8560  6.7552  8.78569         1\n",
       "141  6.4580  6.5211  6.22700         0\n",
       "142  6.5629  6.6260  6.32000         0\n",
       "143  6.1013  6.9870  6.22720         0\n",
       "\n",
       "[144 rows x 4 columns]"
      ]
     },
     "execution_count": 1,
     "metadata": {},
     "output_type": "execute_result"
    }
   ],
   "source": [
    "import pandas as pd\n",
    "df=pd.read_csv('data.csv',sep=\";\")\n",
    "df"
   ]
  },
  {
   "cell_type": "code",
   "execution_count": 2,
   "metadata": {},
   "outputs": [
    {
     "data": {
      "text/plain": [
       "(144, 4)"
      ]
     },
     "execution_count": 2,
     "metadata": {},
     "output_type": "execute_result"
    }
   ],
   "source": [
    "df.shape"
   ]
  },
  {
   "cell_type": "code",
   "execution_count": 3,
   "metadata": {},
   "outputs": [
    {
     "name": "stdout",
     "output_type": "stream",
     "text": [
      "<class 'pandas.core.frame.DataFrame'>\n",
      "RangeIndex: 144 entries, 0 to 143\n",
      "Data columns (total 4 columns):\n",
      " #   Column    Non-Null Count  Dtype  \n",
      "---  ------    --------------  -----  \n",
      " 0   pd        144 non-null    float64\n",
      " 1   pm        144 non-null    float64\n",
      " 2   pa        144 non-null    float64\n",
      " 3   resultat  144 non-null    int64  \n",
      "dtypes: float64(3), int64(1)\n",
      "memory usage: 4.6 KB\n"
     ]
    }
   ],
   "source": [
    "df.info()"
   ]
  },
  {
   "cell_type": "code",
   "execution_count": 4,
   "metadata": {},
   "outputs": [
    {
     "data": {
      "text/html": [
       "<div>\n",
       "<style scoped>\n",
       "    .dataframe tbody tr th:only-of-type {\n",
       "        vertical-align: middle;\n",
       "    }\n",
       "\n",
       "    .dataframe tbody tr th {\n",
       "        vertical-align: top;\n",
       "    }\n",
       "\n",
       "    .dataframe thead th {\n",
       "        text-align: right;\n",
       "    }\n",
       "</style>\n",
       "<table border=\"1\" class=\"dataframe\">\n",
       "  <thead>\n",
       "    <tr style=\"text-align: right;\">\n",
       "      <th></th>\n",
       "      <th>pd</th>\n",
       "      <th>pm</th>\n",
       "      <th>pa</th>\n",
       "      <th>resultat</th>\n",
       "    </tr>\n",
       "  </thead>\n",
       "  <tbody>\n",
       "    <tr>\n",
       "      <th>count</th>\n",
       "      <td>144.00000</td>\n",
       "      <td>144.000000</td>\n",
       "      <td>144.000000</td>\n",
       "      <td>144.000000</td>\n",
       "    </tr>\n",
       "    <tr>\n",
       "      <th>mean</th>\n",
       "      <td>6.61868</td>\n",
       "      <td>6.610351</td>\n",
       "      <td>6.711068</td>\n",
       "      <td>0.506944</td>\n",
       "    </tr>\n",
       "    <tr>\n",
       "      <th>std</th>\n",
       "      <td>0.58661</td>\n",
       "      <td>0.331625</td>\n",
       "      <td>0.707967</td>\n",
       "      <td>0.501697</td>\n",
       "    </tr>\n",
       "    <tr>\n",
       "      <th>min</th>\n",
       "      <td>5.99920</td>\n",
       "      <td>5.497000</td>\n",
       "      <td>5.123000</td>\n",
       "      <td>0.000000</td>\n",
       "    </tr>\n",
       "    <tr>\n",
       "      <th>25%</th>\n",
       "      <td>6.12225</td>\n",
       "      <td>6.519000</td>\n",
       "      <td>6.224150</td>\n",
       "      <td>0.000000</td>\n",
       "    </tr>\n",
       "    <tr>\n",
       "      <th>50%</th>\n",
       "      <td>6.52215</td>\n",
       "      <td>6.565500</td>\n",
       "      <td>6.753200</td>\n",
       "      <td>1.000000</td>\n",
       "    </tr>\n",
       "    <tr>\n",
       "      <th>75%</th>\n",
       "      <td>6.78640</td>\n",
       "      <td>6.608250</td>\n",
       "      <td>6.963000</td>\n",
       "      <td>1.000000</td>\n",
       "    </tr>\n",
       "    <tr>\n",
       "      <th>max</th>\n",
       "      <td>8.78020</td>\n",
       "      <td>8.550000</td>\n",
       "      <td>8.965000</td>\n",
       "      <td>1.000000</td>\n",
       "    </tr>\n",
       "  </tbody>\n",
       "</table>\n",
       "</div>"
      ],
      "text/plain": [
       "              pd          pm          pa    resultat\n",
       "count  144.00000  144.000000  144.000000  144.000000\n",
       "mean     6.61868    6.610351    6.711068    0.506944\n",
       "std      0.58661    0.331625    0.707967    0.501697\n",
       "min      5.99920    5.497000    5.123000    0.000000\n",
       "25%      6.12225    6.519000    6.224150    0.000000\n",
       "50%      6.52215    6.565500    6.753200    1.000000\n",
       "75%      6.78640    6.608250    6.963000    1.000000\n",
       "max      8.78020    8.550000    8.965000    1.000000"
      ]
     },
     "execution_count": 4,
     "metadata": {},
     "output_type": "execute_result"
    }
   ],
   "source": [
    "df.describe()"
   ]
  },
  {
   "cell_type": "code",
   "execution_count": 28,
   "metadata": {},
   "outputs": [
    {
     "data": {
      "text/plain": [
       "array([[6.839  , 6.96   , 6.85   ],\n",
       "       [6.32   , 6.425  , 5.5    ],\n",
       "       [6.685  , 6.4662 , 5.499  ],\n",
       "       [6.866  , 6.5    , 6.963  ],\n",
       "       [6.765  , 6.5852 , 5.123  ],\n",
       "       [5.9992 , 6.223  , 6.963  ],\n",
       "       [6.123  , 6.523  , 6.9112 ],\n",
       "       [6.9994 , 6.491  , 7.2136 ],\n",
       "       [6.9995 , 6.492  , 5.2137 ],\n",
       "       [6.9996 , 6.493  , 7.2898 ],\n",
       "       [6.9997 , 6.494  , 5.2139 ],\n",
       "       [6.9998 , 6.495  , 6.214  ],\n",
       "       [6.9999 , 6.36   , 6.5666 ],\n",
       "       [6.1    , 5.497  , 5.2125 ],\n",
       "       [6.561  , 6.498  , 7.2143 ],\n",
       "       [6.745  , 6.499  , 6.9996 ],\n",
       "       [6.123  , 6.23   , 6.9663 ],\n",
       "       [6.741  , 6.501  , 6.21746],\n",
       "       [6.752  , 6.502  , 6.7777 ],\n",
       "       [6.23   , 6.503  , 6.96633],\n",
       "       [6.7557 , 6.504  , 6.5006 ],\n",
       "       [6.858  , 6.505  , 6.78965],\n",
       "       [6.10009, 6.506  , 7.5335 ],\n",
       "       [6.1001 , 6.507  , 6.788  ],\n",
       "       [6.10011, 6.508  , 6.2153 ],\n",
       "       [6.5475 , 6.509  , 7.2154 ],\n",
       "       [6.15013, 6.51   , 6.9632 ],\n",
       "       [6.2    , 6.511  , 7.122  ],\n",
       "       [6.10215, 6.63   , 7.874  ],\n",
       "       [6.9858 , 6.322  , 6.0211 ],\n",
       "       [6.1097 , 6.785  , 6.785  ],\n",
       "       [6.6318 , 6.785  , 6.324  ],\n",
       "       [6.15019, 6.516  , 6.2161 ],\n",
       "       [6.522  , 6.3625 , 6.987  ],\n",
       "       [6.5201 , 6.555  , 6.6332 ],\n",
       "       [6.632  , 6.874  , 6.9999 ],\n",
       "       [6.5223 , 6.52   , 6.74   ],\n",
       "       [7.10024, 7.032  , 8.562  ],\n",
       "       [6.8965 , 6.522  , 6.9556 ],\n",
       "       [6.1566 , 7.523  , 8.9633 ],\n",
       "       [7.10027, 6.1999 , 6.2169 ],\n",
       "       [8.19928, 6.0212 , 6.217  ],\n",
       "       [7.5639 , 6.536  , 5.2171 ],\n",
       "       [7.1003 , 6.75   , 6.2172 ],\n",
       "       [6.10031, 6.75   , 6.9633 ],\n",
       "       [6.10032, 6.133  , 6.2322 ],\n",
       "       [6.10033, 6.     , 6.9932 ],\n",
       "       [6.7852 , 6.851  , 6.6636 ],\n",
       "       [6.10035, 7.9632 , 6.527  ],\n",
       "       [6.10036, 6.456  , 6.52   ],\n",
       "       [6.3333 , 6.534  , 6.621  ],\n",
       "       [6.10038, 6.535  , 6.218  ],\n",
       "       [6.72   , 6.536  , 6.2181 ],\n",
       "       [6.1004 , 6.537  , 6.2182 ],\n",
       "       [6.33   , 6.538  , 6.2183 ],\n",
       "       [6.10042, 6.539  , 6.2184 ],\n",
       "       [6.78   , 6.54   , 6.2185 ],\n",
       "       [6.10044, 7.541  , 6.96   ],\n",
       "       [6.993  , 6.542  , 6.754  ],\n",
       "       [6.63   , 7.543  , 6.322  ],\n",
       "       [6.10047, 6.544  , 6.7852 ],\n",
       "       [6.148  , 6.545  , 6.633  ],\n",
       "       [6.455  , 6.546  , 6.7785 ],\n",
       "       [8.7552 , 6.547  , 6.9663 ],\n",
       "       [6.451  , 6.548  , 6.2193 ],\n",
       "       [6.12552, 6.549  , 6.333  ],\n",
       "       [8.7503 , 8.55   , 7.966  ],\n",
       "       [6.174  , 6.551  , 6.763  ],\n",
       "       [6.36   , 6.552  , 6.2197 ],\n",
       "       [6.741  , 6.553  , 6.2198 ],\n",
       "       [6.57   , 6.554  , 6.2199 ],\n",
       "       [6.4662 , 6.555  , 6.963  ],\n",
       "       [6.63   , 6.556  , 6.2201 ],\n",
       "       [6.7852 , 6.557  , 6.2202 ],\n",
       "       [6.3328 , 6.558  , 6.3325 ],\n",
       "       [6.745  , 6.559  , 6.963  ],\n",
       "       [6.632  , 6.56   , 6.123  ],\n",
       "       [6.10064, 6.561  , 6.7552 ],\n",
       "       [6.452  , 6.562  , 6.3644 ],\n",
       "       [6.26   , 6.563  , 6.4402 ],\n",
       "       [6.8527 , 6.564  , 6.63   ],\n",
       "       [6.368  , 6.565  , 6.7852 ],\n",
       "       [6.8569 , 6.566  , 7.102  ],\n",
       "       [6.657  , 6.567  , 6.56633],\n",
       "       [6.371  , 6.568  , 7.236  ],\n",
       "       [6.455  , 6.569  , 6.8969 ],\n",
       "       [6.76   , 6.866  , 6.29963],\n",
       "       [6.992  , 6.52   , 6.7852 ],\n",
       "       [7.354  , 6.255  , 6.7745 ],\n",
       "       [6.12   , 6.75521, 6.3666 ],\n",
       "       [6.79   , 6.763  , 6.55   ],\n",
       "       [6.10078, 6.96   , 6.785  ],\n",
       "       [6.10079, 6.8666 , 6.562  ],\n",
       "       [6.1008 , 6.577  , 6.985  ],\n",
       "       [6.10081, 6.578  , 8.852  ],\n",
       "       [6.10082, 6.63   , 6.7524 ],\n",
       "       [6.10083, 6.58   , 8.745  ],\n",
       "       [6.10084, 6.581  , 8.965  ],\n",
       "       [7.10085, 6.582  , 6.896  ],\n",
       "       [6.10086, 6.583  , 6.2228 ],\n",
       "       [8.1967 , 6.584  , 6.2229 ],\n",
       "       [6.784  , 6.585  , 6.877  ],\n",
       "       [6.362  , 6.586  , 6.2231 ],\n",
       "       [6.50041, 6.587  , 6.2232 ],\n",
       "       [6.531  , 6.588  , 6.2233 ],\n",
       "       [6.692  , 6.589  , 6.2234 ],\n",
       "       [8.4523 , 6.59   , 6.963  ],\n",
       "       [6.46394, 6.591  , 7.9633 ],\n",
       "       [6.635  , 6.592  , 6.963  ],\n",
       "       [6.4755 , 6.593  , 6.5452 ],\n",
       "       [6.43397, 6.594  , 6.8863 ],\n",
       "       [6.10098, 6.595  , 6.695  ],\n",
       "       [6.10099, 6.596  , 6.7749 ],\n",
       "       [6.101  , 6.597  , 6.9963 ],\n",
       "       [6.302  , 6.598  , 6.856  ],\n",
       "       [8.7802 , 6.599  , 6.2244 ],\n",
       "       [8.63   , 6.6    , 6.2245 ],\n",
       "       [7.10104, 6.601  , 6.8963 ],\n",
       "       [6.1852 , 6.602  , 6.863  ],\n",
       "       [6.10106, 6.603  , 6.746  ],\n",
       "       [6.10107, 6.604  , 7.7741 ],\n",
       "       [6.10108, 6.605  , 7.8562 ],\n",
       "       [6.9633 , 6.606  , 6.2251 ],\n",
       "       [6.6631 , 6.607  , 6.95842],\n",
       "       [6.752  , 6.608  , 7.785  ],\n",
       "       [6.632  , 6.609  , 6.785  ],\n",
       "       [6.75   , 6.61   , 6.874  ],\n",
       "       [6.10114, 7.611  , 8.2256 ],\n",
       "       [7.176  , 6.612  , 6.2257 ],\n",
       "       [6.10116, 6.613  , 6.2258 ],\n",
       "       [6.4757 , 6.614  , 6.2259 ],\n",
       "       [8.10118, 6.615  , 5.226  ],\n",
       "       [6.22   , 6.616  , 6.2261 ],\n",
       "       [6.75   , 6.617  , 6.7774 ],\n",
       "       [8.10121, 7.618  , 5.854  ],\n",
       "       [6.5622 , 6.619  , 6.963  ],\n",
       "       [7.023  , 6.8652 , 6.999  ],\n",
       "       [6.63124, 6.402  , 6.985  ],\n",
       "       [6.555  , 5.622  , 6.785  ],\n",
       "       [6.477  , 6.623  , 8.2268 ],\n",
       "       [6.856  , 6.7552 , 8.78569],\n",
       "       [6.458  , 6.5211 , 6.227  ],\n",
       "       [6.5629 , 6.626  , 6.32   ],\n",
       "       [6.1013 , 6.987  , 6.2272 ]])"
      ]
     },
     "execution_count": 28,
     "metadata": {},
     "output_type": "execute_result"
    }
   ],
   "source": [
    "df[df.columns[:-1]].values"
   ]
  },
  {
   "cell_type": "code",
   "execution_count": 30,
   "metadata": {},
   "outputs": [],
   "source": [
    "import  pandas as pd \n",
    "import numpy as np\n",
    "import matplotlib.pyplot as plt\n",
    "x=df[df.columns[:-1]].values\n",
    "y=df[df.columns[-1]].values\n",
    "y=y.flatten()"
   ]
  },
  {
   "cell_type": "code",
   "execution_count": 35,
   "metadata": {},
   "outputs": [],
   "source": [
    "from sklearn import model_selection \n",
    "x_train,x_test,y_train,y_test=model_selection.train_test_split(x,y,test_size=0.3)"
   ]
  },
  {
   "cell_type": "code",
   "execution_count": 36,
   "metadata": {},
   "outputs": [],
   "source": [
    "from sklearn import preprocessing \n",
    "std_scale=preprocessing.StandardScaler().fit(x_train)\n",
    "x_train_std=std_scale.transform(x_train)\n",
    "x_test_std=std_scale.transform(x_test)"
   ]
  },
  {
   "cell_type": "code",
   "execution_count": 39,
   "metadata": {},
   "outputs": [
    {
     "data": {
      "image/png": "[encoded data removed]",
      "text/plain": [
       "<Figure size 432x432 with 1 Axes>"
      ]
     },
     "metadata": {
      "needs_background": "light"
     },
     "output_type": "display_data"
    }
   ],
   "source": [
    "from sklearn import svm\n",
    "classifier = svm.SVC(kernel=\"rbf\",gamma=0.01)\n",
    "classifier.fit(x_train_std,y_train)\n",
    "y_test_pred=classifier.decision_function(x_test_std)\n",
    "from sklearn import metrics\n",
    "fpr,tpr,thr=metrics.roc_curve(y_test,y_test_pred)\n",
    "auc=metrics.auc(fpr,tpr)\n",
    "from matplotlib import pyplot as plt \n",
    "fig=plt.figure(figsize=(6,6))\n",
    "plt.plot(fpr,tpr,'-',label=\"gamma=0.01, AUC=%.2f'\" %auc)\n",
    "plt.xlabel(\"False Positive Rate\",fontsize=16)\n",
    "plt.ylabel(\"True Positive Rate\",fontsize=16)\n",
    "plt.title('SVM ROC CURVE',fontsize=16)\n",
    "plt.legend(loc=\"lower right\",fontsize=14)\n",
    "plt.show()\n"
   ]
  },
  {
   "cell_type": "code",
   "execution_count": 42,
   "metadata": {},
   "outputs": [
    {
     "name": "stdout",
     "output_type": "stream",
     "text": [
      "la valeur optimale est {'C': 1.0, 'gamma': 0.1} avec un score de 0.84\n"
     ]
    }
   ],
   "source": [
    "c_range=np.logspace(-2,3,6)\n",
    "gamma_range=np.logspace(-2,1,4)\n",
    "param_grid={\"C\":c_range,\"gamma\":gamma_range}\n",
    "score=\"roc_auc\"\n",
    "grid=model_selection.GridSearchCV(svm.SVC(kernel=\"rbf\"),param_grid,cv=5,scoring=score)\n",
    "grid.fit(x_train_std,y_train)\n",
    "print('la valeur optimale est %s avec un score de %.2f' % \\\n",
    "     (grid.best_params_,grid.best_score_))"
   ]
  },
  {
   "cell_type": "code",
   "execution_count": 52,
   "metadata": {},
   "outputs": [
    {
     "data": {
      "image/png": "[encoded data removed]",
      "text/plain": [
       "<Figure size 432x432 with 1 Axes>"
      ]
     },
     "metadata": {
      "needs_background": "light"
     },
     "output_type": "display_data"
    }
   ],
   "source": [
    "y_test_pred_cv=classifier.decision_function(x_test_std)\n",
    "fpr_cv,tpr_cv,thr_cv=metrics.roc_curve(y_test,y_test_pred_cv)\n",
    "auc_cv=metrics.auc(fpr_cv,tpr_cv)\n",
    "fig=plt.figure(figsize=(6,6))\n",
    "# courbe roc\n",
    "plt.plot(fpr,tpr,'-',label=\"gamma=0.01, AUC=%.2f'\" % auc)\n",
    "\n",
    "plt.plot(fpr_cv,tpr_cv,'-',label=\"gamma=%.1e, AUC=%.2f\" % \\\n",
    "        (grid.best_params_['gamma'],auc_cv))\n",
    "\n",
    "plt.xlabel(\"False Positive Rate\",fontsize=16)\n",
    "plt.ylabel(\"True Positive Rate\",fontsize=16)\n",
    "plt.title('SVM ROC CURVE',fontsize=16)\n",
    "plt.legend(loc=\"lower right\",fontsize=14)\n",
    "plt.show()\n"
   ]
  },
  {
   "cell_type": "code",
   "execution_count": 62,
   "metadata": {},
   "outputs": [
    {
     "name": "stdout",
     "output_type": "stream",
     "text": [
      "[0]\n"
     ]
    }
   ],
   "source": [
    "from sklearn.svm import SVC\n",
    "clf=SVC(kernel='rbf',C=1.0,gamma=0.1)\n",
    "clf.fit(x,y)\n",
    "print(clf.predict([[4.39,4.05,3.05]]))"
   ]
  },
  {
   "cell_type": "code",
   "execution_count": null,
   "metadata": {},
   "outputs": [],
   "source": []
  }
 ],
 "metadata": {
  "kernelspec": {
   "display_name": "Python 3",
   "language": "python",
   "name": "python3"
  },
  "language_info": {
   "codemirror_mode": {
    "name": "ipython",
    "version": 3
   },
   "file_extension": ".py",
   "mimetype": "text/x-python",
   "name": "python",
   "nbconvert_exporter": "python",
   "pygments_lexer": "ipython3",
   "version": "3.8.5"
  }
 },
 "nbformat": 4,
 "nbformat_minor": 4
}
